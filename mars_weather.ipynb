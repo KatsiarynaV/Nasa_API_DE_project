{
 "cells": [
  {
   "cell_type": "code",
   "execution_count": 2,
   "metadata": {},
   "outputs": [],
   "source": [
    "import pandas as pd\n",
    "import requests"
   ]
  },
  {
   "cell_type": "code",
   "execution_count": 3,
   "metadata": {},
   "outputs": [],
   "source": [
    "def extract_mars_weather_data(api_key):\n",
    "    try: \n",
    "        with requests.Session() as session:\n",
    "            response = session.get(f\"https://api.nasa.gov/insight_weather/?api_key={api_key}&feedtype=json&ver=1.0\")\n",
    "            response.raise_for_status()\n",
    "            data = response.json()\n",
    "\n",
    "        # Достаем только дни (сола) \n",
    "        sol_keys = data.get(\"sol_keys\", [])\n",
    "        return data, sol_keys\n",
    "    except requests.exceptions.RequestException as e:\n",
    "        print(f\"Ошибка при загрузке данных из API: {e}\")\n",
    "        return None, None"
   ]
  },
  {
   "cell_type": "code",
   "execution_count": 4,
   "metadata": {},
   "outputs": [],
   "source": [
    "def get_mars_weather_data_to_DataFrame(data, sol_keys):\n",
    "    try:\n",
    "        if not data or not sol_keys:\n",
    "            print(\"Нет данных для создания DataFrame\")\n",
    "        weather_data = [data[sol] for sol in sol_keys]\n",
    "        return pd.DataFrame(weather_data)\n",
    "    except Exception as e:\n",
    "        print(f\"Ошбика при получении данных: {e}\")\n",
    "        return None"
   ]
  },
  {
   "cell_type": "code",
   "execution_count": 5,
   "metadata": {},
   "outputs": [],
   "source": [
    "def get_temperature_data(data, sol_keys):\n",
    "    try:\n",
    "        if not data or not sol_keys:\n",
    "            print(\"Нет данных о температуре\")\n",
    "        temperature_data = []\n",
    "        for sol in sol_keys:\n",
    "            sol_data = data[sol]  # Данные за конкретный sol\n",
    "            if 'AT' in sol_data:  # Проверяем, есть ли данные о температуре\n",
    "                temperature_data.append({\n",
    "                    'sol': sol,\n",
    "                    'min_temp': sol_data['AT']['mn'],  # Минимальная температура\n",
    "                    'max_temp': sol_data['AT']['mx'],  # Максимальная температура\n",
    "                    'avg_temp': sol_data['AT']['av']   # Средняя температура\n",
    "                })\n",
    "\n",
    "        return pd.DataFrame(temperature_data)\n",
    "    except Exception as e:\n",
    "        print(f\"Ошбика при получении данных о температуре: {e}\")\n",
    "        return None"
   ]
  },
  {
   "cell_type": "code",
   "execution_count": 6,
   "metadata": {},
   "outputs": [],
   "source": [
    "def get_min_temperature(df):\n",
    "    return df['min_temp'].min() if not df.empty else None"
   ]
  },
  {
   "cell_type": "code",
   "execution_count": 7,
   "metadata": {},
   "outputs": [],
   "source": [
    "def get_max_temperature(df):\n",
    "    return df['max_temp'].max() if not df.empty else None\n"
   ]
  },
  {
   "cell_type": "code",
   "execution_count": 8,
   "metadata": {},
   "outputs": [],
   "source": [
    "def get_pressure_data(data, sol_keys):\n",
    "    try:\n",
    "        if not data or not sol_keys:\n",
    "            print(\"Нет данных о давлении\")\n",
    "        pressure_data = []\n",
    "        for sol in sol_keys:\n",
    "            sol_data = data[sol]  # Данные за конкретный sol\n",
    "            if 'PRE' in sol_data:  # Проверяем, есть ли данные о давлении\n",
    "                pressure_data.append({\n",
    "                    'sol': sol,\n",
    "                    'min_pres': sol_data['PRE']['mn'],  # Минимальное давление\n",
    "                    'max_pres': sol_data['PRE']['mx'],  # Максимальное давление\n",
    "                    'avg_pres': sol_data['PRE']['av']   # Среднее давление\n",
    "                })\n",
    "\n",
    "        return pd.DataFrame(pressure_data)\n",
    "    except Exception as e:\n",
    "        print(f\"Ошбика при получении данных о давлении: {e}\")\n",
    "        return None"
   ]
  },
  {
   "cell_type": "code",
   "execution_count": 9,
   "metadata": {},
   "outputs": [],
   "source": [
    "def get_avg_pressure(df):\n",
    "    return df['avg_pres'].mean() if not df.empty else None\n",
    "    "
   ]
  },
  {
   "cell_type": "code",
   "execution_count": 10,
   "metadata": {},
   "outputs": [],
   "source": [
    "def write_mars_weather_to_excel(mars_weather_df, temperature_data, pressure_data, filename):\n",
    "    try:\n",
    "        with pd.ExcelWriter(filename, engine=\"xlsxwriter\") as writer:\n",
    "            if mars_weather_df is not None:\n",
    "                mars_weather_df.to_excel(writer, sheet_name=\"Mars_weather\", index=False)\n",
    "            if temperature_data is not None:\n",
    "                temperature_data.to_excel(writer, sheet_name=\"Temperature_data\", index=False)\n",
    "            if pressure_data is not None:\n",
    "                pressure_data.to_excel(writer, sheet_name=\"Pressure_data\", index=False)\n",
    "        print(f\"Данные успешно сохранены в '{filename}'\")\n",
    "    except Exception as e:\n",
    "        print(f\"Ошибка записи данных в Excel: {e}\")"
   ]
  },
  {
   "cell_type": "code",
   "execution_count": 11,
   "metadata": {},
   "outputs": [],
   "source": [
    "def write_analyze_data_to_csv(min_temp, max_temp, avg_pressure, filename):\n",
    "    try:\n",
    "        data_to_csv = {\n",
    "            \"Data\": ['Min temperature', 'Max temperature', 'Average Pressure'],\n",
    "            \"Value\": [min_temp, max_temp, avg_pressure]\n",
    "        }\n",
    "        analyze_data = pd.DataFrame(data_to_csv)\n",
    "        analyze_data.to_csv(filename, index=False)\n",
    "        print(f\"Данные успешно загружены в {filename}\")\n",
    "    except Exception as e:\n",
    "        print(f\"Ошибка записи данных в CSV: {e}\")\n"
   ]
  },
  {
   "cell_type": "code",
   "execution_count": 12,
   "metadata": {},
   "outputs": [],
   "source": [
    "def main(api_key):\n",
    "    mars_weather, sol_keys = extract_mars_weather_data(api_key)\n",
    "    \n",
    "    if mars_weather is None or sol_keys is None:\n",
    "        print(\"Не удалось загрузить данные.\")\n",
    "        return\n",
    "    \n",
    "    mars_weather_df = get_mars_weather_data_to_DataFrame(mars_weather, sol_keys)\n",
    "    temperature_data = get_temperature_data(mars_weather, sol_keys)\n",
    "    pressure_data = get_pressure_data(mars_weather, sol_keys)\n",
    "    min_temp = get_min_temperature(temperature_data)\n",
    "    max_temp = get_max_temperature(temperature_data)\n",
    "    avg_pressure = get_avg_pressure(pressure_data)\n",
    "    write_mars_weather_to_excel(mars_weather_df, temperature_data, pressure_data, \"files/mars_weather.xlsx\")\n",
    "    write_analyze_data_to_csv(min_temp, max_temp, avg_pressure, 'files/mars_analyze_data.csv')\n"
   ]
  },
  {
   "cell_type": "code",
   "execution_count": 13,
   "metadata": {},
   "outputs": [
    {
     "name": "stdout",
     "output_type": "stream",
     "text": [
      "Данные успешно сохранены в 'files/mars_weather.xlsx'\n",
      "Данные успешно загружены в files/mars_analyze_data.csv\n"
     ]
    }
   ],
   "source": [
    "if __name__ == \"__main__\":\n",
    "    API_KEY = \"502SJWBgC67LUsXow8S2uPQtZC29d2iDQ7Og6Hkg\"\n",
    "    main(API_KEY)\n"
   ]
  }
 ],
 "metadata": {
  "kernelspec": {
   "display_name": "Python 3",
   "language": "python",
   "name": "python3"
  },
  "language_info": {
   "codemirror_mode": {
    "name": "ipython",
    "version": 3
   },
   "file_extension": ".py",
   "mimetype": "text/x-python",
   "name": "python",
   "nbconvert_exporter": "python",
   "pygments_lexer": "ipython3",
   "version": "3.13.2"
  }
 },
 "nbformat": 4,
 "nbformat_minor": 2
}
