{
 "cells": [
  {
   "cell_type": "code",
   "execution_count": 2,
   "metadata": {},
   "outputs": [],
   "source": [
    "import pandas as pd\n",
    "import requests"
   ]
  },
  {
   "cell_type": "code",
   "execution_count": 3,
   "metadata": {},
   "outputs": [],
   "source": [
    "def extract_last_week_neo_data(start_date, end_date, api_key):\n",
    "    \"\"\"Получает JSON-данные по API\"\"\"\n",
    "    try:\n",
    "        with requests.Session() as session:\n",
    "            response = session.get(f\"https://api.nasa.gov/neo/rest/v1/feed?start_date={start_date}&end_date={end_date}&api_key={api_key}\")\n",
    "            response.raise_for_status()\n",
    "            data = response.json()\n",
    "        \n",
    "        return data\n",
    "    except requests.exceptions.RequestException as e:\n",
    "        print(f\"Ошибка при запросе данных: {e}\")\n",
    "        return None"
   ]
  },
  {
   "cell_type": "code",
   "execution_count": 4,
   "metadata": {},
   "outputs": [],
   "source": [
    "def get_last_week_neo(data):\n",
    "    \"\"\"Извлекаем список астероидов и конвертируем в DataFrame\"\"\"\n",
    "    try:\n",
    "        last_week_neo_data = []\n",
    "        for date, objects in data[\"near_earth_objects\"].items():\n",
    "            for object in objects:\n",
    "                last_week_neo_data.append(object)\n",
    "        df = pd.json_normalize(last_week_neo_data)\n",
    "        print(\"Данные об астероидах загружены\")\n",
    "        return df\n",
    "    except Exception as e:\n",
    "        print(f\"Ошибка извлечения данных: {e}\")\n",
    "        return None"
   ]
  },
  {
   "cell_type": "code",
   "execution_count": 5,
   "metadata": {},
   "outputs": [],
   "source": [
    "def get_close_approaches(data):\n",
    "    \"\"\"Извлекает данные о сближениях астероидов\"\"\"\n",
    "    try:\n",
    "        # Проверяем, что ключ 'close_approach_data' существует\n",
    "        filtered_data = [\n",
    "            obj for date, objects in data[\"near_earth_objects\"].items()\n",
    "            for obj in objects if 'close_approach_data' in obj\n",
    "        ]\n",
    "        # Нормализация данных о сближениях\n",
    "        close_approach = pd.json_normalize(\n",
    "            filtered_data, \n",
    "            'close_approach_data', \n",
    "            ['id', 'name'], \n",
    "            errors='ignore'  # Игнорируем отсутствующие поля\n",
    "        )\n",
    "        print(\"Данные о сближениях загружены\")\n",
    "        return close_approach\n",
    "    except Exception as e:\n",
    "        print(f\"Ошибка при обработке данных о сближениях астероидов: {e}\")\n",
    "        return None\n"
   ]
  },
  {
   "cell_type": "code",
   "execution_count": 6,
   "metadata": {},
   "outputs": [],
   "source": [
    "def get_asteroid_with_max_speed(close_approach):\n",
    "    try:\n",
    "        close_approach[\"relative_velocity.kilometers_per_second\"] = close_approach[\"relative_velocity.kilometers_per_second\"].astype(float)\n",
    "        max_speed_index = close_approach[\"relative_velocity.kilometers_per_second\"].idxmax()\n",
    "        max_speed_df = close_approach.loc[max_speed_index, ['name', 'close_approach_date', 'relative_velocity.kilometers_per_second']]\n",
    "        print(\"Данные об астероиде с максимальной скоростью получены\")\n",
    "        return max_speed_df\n",
    "    except Exception as e:\n",
    "        print(f\"Ошибка при нахождении астероида с максимальной скоростью: {e}\")\n",
    "        return None"
   ]
  },
  {
   "cell_type": "code",
   "execution_count": 7,
   "metadata": {},
   "outputs": [],
   "source": [
    "def write_last_week_data_to_excel(nasa_neo_last_week_df, close_approaches_df, asteroid_max_speed_df, filename):\n",
    "    try:\n",
    "        with pd.ExcelWriter(filename, engine=\"xlsxwriter\") as writer:\n",
    "            if nasa_neo_last_week_df is not None:\n",
    "                nasa_neo_last_week_df.to_excel(writer, sheet_name=\"Asteroids\", index=False)\n",
    "            if close_approaches_df is not None:\n",
    "                close_approaches_df.to_excel(writer, sheet_name=\"Close_Approaches\", index=False)\n",
    "            if asteroid_max_speed_df is not None:\n",
    "                asteroid_max_speed_df.to_excel(writer, sheet_name=\"Asteroid_max_speed\")\n",
    "        print(f\"Данные успешно сохранены в '{filename}'\")\n",
    "    except Exception as e:\n",
    "        print(f\"Ошибка записи данных в Excel: {e}\")"
   ]
  },
  {
   "cell_type": "code",
   "execution_count": 8,
   "metadata": {},
   "outputs": [
    {
     "name": "stdout",
     "output_type": "stream",
     "text": [
      "Данные об астероидах загружены\n",
      "Данные о сближениях загружены\n",
      "Данные об астероиде с максимальной скоростью получены\n",
      "Данные успешно сохранены в 'files/last_week_neo_data.xlsx'\n"
     ]
    }
   ],
   "source": [
    "def main(api_key):\n",
    "    \"\"\"Загружаем, обрабатываем и добавляем данные в DataFrame\"\"\"\n",
    "    start_date = \"2025-03-21\"\n",
    "    end_date = \"2025-03-28\"\n",
    "\n",
    "    neo_data = extract_last_week_neo_data(start_date, end_date, api_key)\n",
    "    nasa_neo_last_week_df = get_last_week_neo(neo_data)\n",
    "    close_approaches_df = get_close_approaches(neo_data)\n",
    "    asteroid_max_speed_df = get_asteroid_with_max_speed(close_approaches_df)\n",
    "    write_last_week_data_to_excel(nasa_neo_last_week_df, close_approaches_df, asteroid_max_speed_df, 'files/last_week_neo_data.xlsx')\n",
    "        \n",
    "\n",
    "if __name__ == \"__main__\":\n",
    "    API_KEY = \"502SJWBgC67LUsXow8S2uPQtZC29d2iDQ7Og6Hkg\"\n",
    "    main(API_KEY)"
   ]
  }
 ],
 "metadata": {
  "kernelspec": {
   "display_name": "Python 3",
   "language": "python",
   "name": "python3"
  },
  "language_info": {
   "codemirror_mode": {
    "name": "ipython",
    "version": 3
   },
   "file_extension": ".py",
   "mimetype": "text/x-python",
   "name": "python",
   "nbconvert_exporter": "python",
   "pygments_lexer": "ipython3",
   "version": "3.13.2"
  }
 },
 "nbformat": 4,
 "nbformat_minor": 2
}
