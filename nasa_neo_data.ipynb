{
 "cells": [
  {
   "cell_type": "code",
   "execution_count": 2,
   "metadata": {},
   "outputs": [],
   "source": [
    "import pandas as pd\n",
    "import requests"
   ]
  },
  {
   "cell_type": "code",
   "execution_count": 3,
   "metadata": {},
   "outputs": [],
   "source": [
    "def extract_data_from_nasa_api(url, max_pages):\n",
    "    \"\"\"Получает JSON-данные по API\"\"\"\n",
    "    all_objects = []  # Список для хранения всех астероидов\n",
    "    current_url = url\n",
    "    page = 1\n",
    "\n",
    "    while current_url and page <= max_pages:\n",
    "        try:\n",
    "            response = requests.get(current_url)\n",
    "            response.raise_for_status()\n",
    "            data = response.json()\n",
    "            \n",
    "    # Добавляем астероиды с текущей страницы\n",
    "            all_objects.extend(data.get(\"near_earth_objects\", []))\n",
    "        \n",
    "    # Проверяем, есть ли следующая страница\n",
    "            current_url = data[\"links\"].get(\"next\")\n",
    "            print(f\"Загружена страница {page}\")\n",
    "            page += 1\n",
    "        except requests.exceptions.RequestException as e:\n",
    "            print(f\"Ошибка запроса к API: {e}\")\n",
    "            break\n",
    "        \n",
    "    return all_objects  # Возвращаем список всех астероидов  "
   ]
  },
  {
   "cell_type": "code",
   "execution_count": 4,
   "metadata": {},
   "outputs": [],
   "source": [
    "def get_near_earth_objects_data(data):\n",
    "    \"\"\"Извлекает список астероидов в DataFrame\"\"\"\n",
    "    try:\n",
    "        if not data:\n",
    "            print('Данные об астероидах отсутствуют')\n",
    "            return pd.DataFrame()\n",
    "        near_earth_objects = pd.json_normalize(data)\n",
    "        print(\"Данные об астероидах добавлены\")\n",
    "        return near_earth_objects\n",
    "    except Exception as e:\n",
    "        print(f\"Ошибка при обработке данных об астероидах: {e}\")"
   ]
  },
  {
   "cell_type": "code",
   "execution_count": 5,
   "metadata": {},
   "outputs": [],
   "source": [
    "def get_close_approaches(data):\n",
    "    \"\"\"Извлекает данные о сближениях астероидов\"\"\"\n",
    "    try:\n",
    "        close_approach = pd.json_normalize(data, 'close_approach_data', ['id', 'name'], errors=\"ignore\")\n",
    "        print(\"Данные о сближениях загружены\")\n",
    "        return close_approach\n",
    "    except Exception as e:\n",
    "        print(f\"Ошибка при обработке данных о сближениях астероидов: {e}\")\n",
    "        return None"
   ]
  },
  {
   "cell_type": "code",
   "execution_count": 6,
   "metadata": {},
   "outputs": [],
   "source": [
    "def write_data_to_excel(near_earth_objects, close_approach, filename):\n",
    "    \"\"\"Сохраняет данные в один Excel-файл с разными листами\"\"\"\n",
    "    try:\n",
    "        with pd.ExcelWriter(filename, engine=\"xlsxwriter\") as writer:\n",
    "            near_earth_objects.to_excel(writer, sheet_name=\"Asteroids\", index=False)\n",
    "            if close_approach is not None:\n",
    "                close_approach.to_excel(writer, sheet_name=\"Close_Approaches\", index=False)\n",
    "        print(f\"Данные успешно сохранены в '{filename}'\")\n",
    "    except Exception as e:\n",
    "        print(f\"Ошибка записи данных в Excel: {e}\")\n"
   ]
  },
  {
   "cell_type": "code",
   "execution_count": 7,
   "metadata": {},
   "outputs": [
    {
     "name": "stdout",
     "output_type": "stream",
     "text": [
      "Загружена страница 1\n",
      "Загружена страница 2\n",
      "Загружена страница 3\n",
      "Загружена страница 4\n",
      "Загружена страница 5\n",
      "Загружена страница 6\n",
      "Загружена страница 7\n",
      "Загружена страница 8\n",
      "Загружена страница 9\n",
      "Загружена страница 10\n",
      "Данные об астероидах добавлены\n",
      "Данные о сближениях загружены\n",
      "Данные успешно сохранены в 'files/nasa_neo_data.xlsx'\n"
     ]
    }
   ],
   "source": [
    "def main(api_key, base_url):\n",
    "    \"\"\"Основная логика программы\"\"\"\n",
    "    url = f\"{base_url}?api_key={api_key}\"\n",
    "    data = extract_data_from_nasa_api(url, max_pages=10) # Взяла первые 10 страниц\n",
    "\n",
    "    asteroids_df = get_near_earth_objects_data(data)\n",
    "    close_approaches_df = get_close_approaches(data)\n",
    "    write_data_to_excel(asteroids_df, close_approaches_df, 'files/nasa_neo_data.xlsx')\n",
    "\n",
    "\n",
    "if __name__ == \"__main__\":\n",
    "    base_url = \"502SJWBgC67LUsXow8S2uPQtZC29d2iDQ7Og6Hkg\"\n",
    "    api_key = \"https://api.nasa.gov/neo/rest/v1/neo/browse\"\n",
    "    main(base_url, api_key)"
   ]
  }
 ],
 "metadata": {
  "kernelspec": {
   "display_name": "Python 3",
   "language": "python",
   "name": "python3"
  },
  "language_info": {
   "codemirror_mode": {
    "name": "ipython",
    "version": 3
   },
   "file_extension": ".py",
   "mimetype": "text/x-python",
   "name": "python",
   "nbconvert_exporter": "python",
   "pygments_lexer": "ipython3",
   "version": "3.13.2"
  }
 },
 "nbformat": 4,
 "nbformat_minor": 2
}
